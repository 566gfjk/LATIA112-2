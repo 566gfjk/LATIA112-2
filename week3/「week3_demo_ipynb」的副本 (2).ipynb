{
  "nbformat": 4,
  "nbformat_minor": 0,
  "metadata": {
    "colab": {
      "provenance": []
    },
    "kernelspec": {
      "name": "python3",
      "display_name": "Python 3"
    },
    "language_info": {
      "name": "python"
    }
  },
  "cells": [
    {
      "cell_type": "markdown",
      "source": [
        "from google colab import files #匯入套件\n",
        "\n",
        "import pandas as pd\n",
        "\n",
        "upload = files.upload() #開啟上傳介面並載入\n",
        "\n",
        "data = pd.read_csv(\"剛剛上傳的檔案名稱\")"
      ],
      "metadata": {
        "id": "iaUICnvVBX5N"
      }
    },
    {
      "cell_type": "code",
      "execution_count": 1,
      "metadata": {
        "id": "nrJeVAasiBPQ",
        "colab": {
          "base_uri": "https://localhost:8080/"
        },
        "outputId": "6f7e5fd3-bb80-4f37-e6ff-74df58e29f31"
      },
      "outputs": [
        {
          "output_type": "stream",
          "name": "stdout",
          "text": [
            "Mounted at /content/gdrive/\n",
            "total 111\n",
            "-rw------- 1 root root 92484 Mar  5 06:36 112_student.csv\n",
            "-rw------- 1 root root 20934 Mar  9 13:46 「week3_demo_ipynb」的副本.ipynb\n"
          ]
        }
      ],
      "source": [
        "from google.colab import drive\n",
        "drive.mount('/content/gdrive/', force_remount=True)\n",
        "\n",
        "import os\n",
        "os.chdir(\"/content/gdrive/MyDrive/112-2 LATIA/week3-0305/\") # 切換目錄\n",
        "!ls -l \"/content/gdrive/MyDrive/112-2 LATIA/week3-0305/\" # 列出目錄下的檔案\n",
        "#!ls -l \"自行填寫正確的路徑\""
      ]
    },
    {
      "cell_type": "code",
      "source": [
        "import pandas as pd\n",
        "\n",
        "#csv_file = './112_student.csv'\n",
        "csv_file ='./112_student.csv'\n",
        "\n",
        "#columns = [\n",
        "#    \"學年度\",\"學校代碼\",\"學校名稱\",\"日間∕進修別\",\"等級別\",\"總計\",\"男生計\",\n",
        "#    \"女生計\",\"一年級男\",\"一年級女\",\"二年級男\",\"二年級女\",\"三年級男\",\"三年級女\",\n",
        "#    \"四年級男\",\"四年級女\",\"五年級男\",\"五年級女\",\"六年級男\",\"六年級女\",\n",
        "#    \"七年級男\",\"七年級女\",\"延修生男\",\"延修生女\",\"縣市名稱\",\"體系別\"\n",
        "#]\n",
        "df = pd.read_csv(csv_file) # 讀取csv檔案\n",
        "print(df.head())\n",
        "\n",
        "#查看資料欄位資訊\n",
        "print(df.info())\n",
        "\n",
        "#查看資料的統計學資訊描述\n",
        "#print(df.describe(include='all'))"
      ],
      "metadata": {
        "id": "hth5CL3clOs2",
        "colab": {
          "base_uri": "https://localhost:8080/"
        },
        "outputId": "8470f8ae-99b2-470a-e426-55defc4e46ea"
      },
      "execution_count": 2,
      "outputs": [
        {
          "output_type": "stream",
          "name": "stdout",
          "text": [
            "   學年度  學校代碼    學校名稱 日間∕進修別   等級別    總計   男生計   女生計  一年級男  一年級女  ...  五年級男  \\\n",
            "0  112     1  國立政治大學    D 日  D 博士   921   517   404    86    69  ...    63   \n",
            "1  112     1  國立政治大學    D 日  M 碩士  4231  1835  2396   598   809  ...     2   \n",
            "2  112     1  國立政治大學    N 職  M 碩士  1903   938   965   262   304  ...    77   \n",
            "3  112     1  國立政治大學    D 日  B 學士  9763  3928  5835   906  1349  ...     0   \n",
            "4  112     2  國立清華大學    D 日  D 博士  1636  1131   505   206    93  ...   140   \n",
            "\n",
            "   五年級女  六年級男  六年級女  七年級男  七年級女  延修生男  延修生女    縣市名稱   體系別  \n",
            "0    52    68    37    66    50     0     0  30 臺北市  1 一般  \n",
            "1     1     1     0     0     0     0     0  30 臺北市  1 一般  \n",
            "2    57     0     0     0     0     0     0  30 臺北市  1 一般  \n",
            "3     0     0     0     0     0   316   499  30 臺北市  1 一般  \n",
            "4    60   110    50   115    56     0     0  18 新竹市  1 一般  \n",
            "\n",
            "[5 rows x 26 columns]\n",
            "<class 'pandas.core.frame.DataFrame'>\n",
            "RangeIndex: 764 entries, 0 to 763\n",
            "Data columns (total 26 columns):\n",
            " #   Column  Non-Null Count  Dtype \n",
            "---  ------  --------------  ----- \n",
            " 0   學年度     764 non-null    int64 \n",
            " 1   學校代碼    764 non-null    int64 \n",
            " 2   學校名稱    764 non-null    object\n",
            " 3   日間∕進修別  764 non-null    object\n",
            " 4   等級別     764 non-null    object\n",
            " 5   總計      764 non-null    int64 \n",
            " 6   男生計     764 non-null    int64 \n",
            " 7   女生計     764 non-null    int64 \n",
            " 8   一年級男    764 non-null    int64 \n",
            " 9   一年級女    764 non-null    int64 \n",
            " 10  二年級男    764 non-null    int64 \n",
            " 11  二年級女    764 non-null    int64 \n",
            " 12  三年級男    764 non-null    int64 \n",
            " 13  三年級女    764 non-null    int64 \n",
            " 14  四年級男    764 non-null    int64 \n",
            " 15  四年級女    764 non-null    int64 \n",
            " 16  五年級男    764 non-null    int64 \n",
            " 17  五年級女    764 non-null    int64 \n",
            " 18  六年級男    764 non-null    int64 \n",
            " 19  六年級女    764 non-null    int64 \n",
            " 20  七年級男    764 non-null    int64 \n",
            " 21  七年級女    764 non-null    int64 \n",
            " 22  延修生男    764 non-null    int64 \n",
            " 23  延修生女    764 non-null    int64 \n",
            " 24  縣市名稱    764 non-null    object\n",
            " 25  體系別     764 non-null    object\n",
            "dtypes: int64(21), object(5)\n",
            "memory usage: 155.3+ KB\n",
            "None\n"
          ]
        }
      ]
    },
    {
      "cell_type": "markdown",
      "source": [
        "# 1.哪間大專院校有最多的學士生\n",
        "\n",
        "step1: 取出想要查看的欄位，並印出此資料集共有多少筆紀錄 (len)\n",
        "\n",
        "step2: 篩選等級別為\"B 學士\"的DataFrame，並印出有招生學士學制的學校數量\n",
        "\n",
        "step3: 依據\"總計\"從大到小排序並印出結果 (sort_values, by, ascending)"
      ],
      "metadata": {
        "id": "bX5p1tgOSu1i"
      }
    },
    {
      "cell_type": "code",
      "source": [
        "# 請在\"填空\"處，輸入所需要的指令或參數\n",
        "\n",
        "df1 = df[['等級別','總計','學校名稱']] # 取出想要觀看的欄位\n",
        "print(\"本資料集共有\", len(df1), \"筆紀錄\")\n",
        "\n",
        "df1_1 = df1[df1['等級別'] == 'B 學士']\n",
        "print(\"有招生學士學制的學校數量為\", len(df1_1), \"\\n\")\n",
        "df1_1_sorted = df1_1.sort_values(by='總計', ascending=False)\n",
        "print(\"112學年度在籍的學士生最多人數之學校為\", df1_1_sorted.head(1)[\"學校名稱\"].values)"
      ],
      "metadata": {
        "id": "D9AfvfU-Szu7",
        "colab": {
          "base_uri": "https://localhost:8080/"
        },
        "outputId": "7bb2dc47-c67e-4382-bf40-8b1cf9bed6e0"
      },
      "execution_count": 40,
      "outputs": [
        {
          "output_type": "stream",
          "name": "stdout",
          "text": [
            "本資料集共有 764 筆紀錄\n",
            "有招生學士學制的學校數量為 97 \n",
            "\n",
            "112學年度在籍的學士生最多人數之學校為 ['淡江大學']\n"
          ]
        }
      ]
    },
    {
      "cell_type": "markdown",
      "source": [
        "# 2. 國立？所；私立？所\n",
        "\n",
        "step1: 建立空字串 (lsit=[])\n",
        "\n",
        "step2: 建立for迴圈，配合if else條件，取出國立與私立\n",
        "\n",
        "step3: 新增「公私立」column在DataFrame中 (df['公私立'])\n",
        "\n",
        "step4: 篩選掉重複的學校代碼資料 (drop_duplicates)\n",
        "\n",
        "step5: 計算公立與私立學校的筆數，並印出結果 (value_counts)"
      ],
      "metadata": {
        "id": "IzqRi2WyRZFh"
      }
    },
    {
      "cell_type": "code",
      "source": [
        "type_list = [] # 建立空字串\n",
        "\n",
        "for i in df['學校名稱']:\n",
        "    if ('國立' in i) or ('市立' in i):\n",
        "        type_list.append('公立')\n",
        "    else:\n",
        "        type_list.append('私立')\n",
        "\n",
        "df['公私立'] = type_list # 將 Dataframe 新增「公私立」column\n",
        "\n",
        "df2 = df.drop_duplicates('學校代碼')\n",
        "count = df2['公私立'].value_counts()\n",
        "\n",
        "print(df2)\n",
        "print(f\"本資料集共收集了 {len(df2)} 所學校，其中公立：{count['公立']} 所；私立：{count['私立']} 所。\")"
      ],
      "metadata": {
        "id": "eMbiigpnRbdl",
        "colab": {
          "base_uri": "https://localhost:8080/"
        },
        "outputId": "e3f8a94f-7005-428e-a5dc-8d2e3d866364"
      },
      "execution_count": 39,
      "outputs": [
        {
          "output_type": "stream",
          "name": "stdout",
          "text": [
            "     學年度  學校代碼        學校名稱 日間∕進修別   等級別    總計   男生計   女生計  一年級男  一年級女  ...  \\\n",
            "0    112     1      國立政治大學    D 日  D 博士   921   517   404    86    69  ...   \n",
            "4    112     2      國立清華大學    D 日  D 博士  1636  1131   505   206    93  ...   \n",
            "9    112     3      國立臺灣大學    D 日  D 博士  3654  2454  1200   431   215  ...   \n",
            "13   112     4    國立臺灣師範大學    D 日  D 博士  1337   630   707   106   127  ...   \n",
            "17   112     5      國立成功大學    D 日  D 博士  1888  1228   660   219   136  ...   \n",
            "..   ...   ...         ...    ...   ...   ...   ...   ...   ...   ...  ...   \n",
            "753  112  1289  育英醫護管理專科學校    D 日  5 五專  1833   200  1633    39   343  ...   \n",
            "754  112  1291  聖母醫護管理專科學校    D 日  2 二專     2     2     0     0     0  ...   \n",
            "757  112  1292  新生醫護管理專科學校    N 修  2 二專    79    12    67     7    37  ...   \n",
            "759  112  1293  崇仁醫護管理專科學校    D 日  5 五專  3017   460  2557   112   515  ...   \n",
            "760  112  3002      臺北市立大學    D 日  D 博士   208    94   114    17    11  ...   \n",
            "\n",
            "     六年級女  七年級男  七年級女  延修生男  延修生女    縣市名稱   體系別  縣市名  區域  公私立  \n",
            "0      37    66    50     0     0  30 臺北市  1 一般  臺北市  北部   公立  \n",
            "4      50   115    56     0     0  18 新竹市  1 一般  新竹市  北部   公立  \n",
            "9     106   312   132     0     0  30 臺北市  1 一般  臺北市  北部   公立  \n",
            "13     85    87    89     0     0  30 臺北市  3 師範  臺北市  北部   公立  \n",
            "17     57   110    48     0     0  21 臺南市  1 一般  臺南市  南部   公立  \n",
            "..    ...   ...   ...   ...   ...     ...   ...  ...  ..  ...  \n",
            "753     0     0     0    13    77  50 高雄市  2 技職  高雄市  南部   私立  \n",
            "754     0     0     0     2     0  02 宜蘭縣  2 技職  宜蘭縣  北部   私立  \n",
            "757     0     0     0     0     1  03 桃園市  2 技職  桃園市  北部   私立  \n",
            "759     0     0     0    19    45  10 嘉義縣  2 技職  嘉義縣  南部   私立  \n",
            "760     9    16    25     0     0  30 臺北市  1 一般  臺北市  北部   公立  \n",
            "\n",
            "[145 rows x 29 columns]\n",
            "本資料集共收集了 145 所學校，其中公立：47 所；私立：98 所。\n"
          ]
        }
      ]
    },
    {
      "cell_type": "markdown",
      "source": [
        "# 3. 各等級別學制共有？所\n",
        "\n",
        "step1: 篩選掉重複的學校名稱與等級別 (drop_duplicates, subset)\n",
        "\n",
        "step2: 計算出等級別的筆數 (value_counts)\n",
        "\n",
        "step3: 建立等級別的字串，並找出其類別 (unique)\n",
        "\n",
        "step4: 使用for迴圈，依序列出所有等級別學制的學校數量 (count)"
      ],
      "metadata": {
        "id": "Fg_f-NzNSKiU"
      }
    },
    {
      "cell_type": "code",
      "source": [
        "df3 = df.drop_duplicates(subset=['學校名稱','等級別'])\n",
        "count = df3['等級別'].value_counts()\n",
        "degree_list = list(df['等級別'].unique())\n",
        "\n",
        "print(f\"本資料集總共收集了 {len(set(df['學校名稱']))} 所學校，各等級學制當中：\")\n",
        "for degree in degree_list:\n",
        "  print(f\"一共有 {count[degree]} 所學校，有招收 {degree}。\")"
      ],
      "metadata": {
        "id": "FuhQKQqRSLOc",
        "colab": {
          "base_uri": "https://localhost:8080/"
        },
        "outputId": "e4af6f77-a4af-4099-8fc3-785afa9406ab"
      },
      "execution_count": 41,
      "outputs": [
        {
          "output_type": "stream",
          "name": "stdout",
          "text": [
            "本資料集總共收集了 145 所學校，各等級學制當中：\n",
            "一共有 84 所學校，有招收 D 博士。\n",
            "一共有 130 所學校，有招收 M 碩士。\n",
            "一共有 67 所學校，有招收 B 學士。\n",
            "一共有 1 所學校，有招收 X 4+X。\n",
            "一共有 71 所學校，有招收 C 二技。\n",
            "一共有 66 所學校，有招收 B 四技。\n",
            "一共有 46 所學校，有招收 5 五專。\n",
            "一共有 2 所學校，有招收 5 七年。\n",
            "一共有 46 所學校，有招收 2 二專。\n",
            "一共有 1 所學校，有招收 C 二年制。\n"
          ]
        }
      ]
    },
    {
      "cell_type": "code",
      "source": [
        "# Colab 進行matplotlib繪圖時顯示繁體中文\n",
        "# 下載台北思源黑體並命名taipei_sans_tc_beta.ttf，移至指定路徑\n",
        "!wget -O TaipeiSansTCBeta-Regular.ttf https://drive.google.com/uc?id=1eGAsTN1HBpJAkeVM57_C7ccp7hbgSz3_&export=download\n",
        "\n",
        "import matplotlib as mpl\n",
        "import matplotlib.pyplot as plt\n",
        "from matplotlib.font_manager import fontManager\n",
        "\n",
        "fontManager.addfont('TaipeiSansTCBeta-Regular.ttf')\n",
        "mpl.rc('font', family='Taipei Sans TC Beta')"
      ],
      "metadata": {
        "colab": {
          "base_uri": "https://localhost:8080/"
        },
        "id": "PSDmuIKVeCpi",
        "outputId": "09c439de-8c9b-43ba-be17-6e062cdc444f"
      },
      "execution_count": 42,
      "outputs": [
        {
          "output_type": "stream",
          "name": "stdout",
          "text": [
            "--2024-03-12 07:50:37--  https://drive.google.com/uc?id=1eGAsTN1HBpJAkeVM57_C7ccp7hbgSz3_\n",
            "Resolving drive.google.com (drive.google.com)... 172.253.115.101, 172.253.115.102, 172.253.115.138, ...\n",
            "Connecting to drive.google.com (drive.google.com)|172.253.115.101|:443... connected.\n",
            "HTTP request sent, awaiting response... 303 See Other\n",
            "Location: https://drive.usercontent.google.com/download?id=1eGAsTN1HBpJAkeVM57_C7ccp7hbgSz3_ [following]\n",
            "--2024-03-12 07:50:37--  https://drive.usercontent.google.com/download?id=1eGAsTN1HBpJAkeVM57_C7ccp7hbgSz3_\n",
            "Resolving drive.usercontent.google.com (drive.usercontent.google.com)... 172.253.62.132, 2607:f8b0:4004:c07::84\n",
            "Connecting to drive.usercontent.google.com (drive.usercontent.google.com)|172.253.62.132|:443... connected.\n",
            "HTTP request sent, awaiting response... 200 OK\n",
            "Length: 20659344 (20M) [application/octet-stream]\n",
            "Saving to: ‘TaipeiSansTCBeta-Regular.ttf’\n",
            "\n",
            "TaipeiSansTCBeta-Re 100%[===================>]  19.70M  41.4MB/s    in 0.5s    \n",
            "\n",
            "2024-03-12 07:50:41 (41.4 MB/s) - ‘TaipeiSansTCBeta-Regular.ttf’ saved [20659344/20659344]\n",
            "\n"
          ]
        }
      ]
    },
    {
      "cell_type": "code",
      "source": [
        "# 目的：是從一個DataFrame df 中選取特定的學校名稱和等級別的組合，計算每個等級別的學校數量，然後將結果以長條圖的形式顯示。\n",
        "\n",
        "# Line30說明，df3_1 = df.drop_duplicates(subset=['學校名稱', '等級別'])\n",
        "# drop_duplicates() 函數用於刪除重複的行。\n",
        "# subset=['學校名稱', '等級別'] 指定以哪些列的值作為唯一性的判斷標準。這裡使用了學校名稱和等級別作為判斷依據。結果將儲存在 df3_1 中。\n",
        "\n",
        "# Line31說明，count = df3_1['等級別'].value_counts()\n",
        "# value_counts() 函數用於計算每個唯一值的出現次數。\n",
        "# 這裡計算了 df3_1 中每個不同等級別的出現次數，並將結果儲存在 count 中。\n",
        "\n",
        "# Line32說明，listx = [x[2:] for x in list(df['等級別'].unique())]\n",
        "# df['等級別'].unique() 用於取得等級別列中的唯一值。\n",
        "# 對於每個唯一值，取其索引從第三個字元開始的子字串，並將結果儲存在 listx 中。這是為了去掉等級別中的前綴，只保留等級別的描述性部分。\n",
        "\n",
        "# Line33說明，listy = [count[x] for x in list(df['等級別'].unique())]\n",
        "# 對於 df['等級別'].unique() 中的每個唯一值，從 count 字典中取得相應的計數，並將結果儲存在 listy 中。這樣就建立了一個與 listx 對應的計數列表。\n",
        "\n",
        "# Line35說明，plt.bar(listx, listy, width=0.5, color='#93282c')\n",
        "# 使用 plt.bar() 函數繪製長條圖，其中 listx 是 x 軸上的刻度，listy 是對應的 y 軸數值。\n",
        "# width=0.5 設置長條形的寬度為0.5。\n",
        "# color='#93282c' 設置長條形的顏色為深紅色。\n",
        "\n",
        "# 其繪他圖相關設置：\n",
        "# Line36說明，plt.title('各學位等級招收校數') 設置圖表的標題。\n",
        "# Line37說明，plt.xlabel('學位等級別') 設置 x 軸的標籤。\n",
        "# Line38說明，plt.ylabel('學校數') 設置 y 軸的標籤。\n",
        "# Line39說明，plt.show() 顯示繪製的圖形。\n",
        "\n",
        "\n",
        "df3_1 = df.drop_duplicates(subset=['學校名稱', '等級別'])\n",
        "count = df3_1['等級別'].value_counts()\n",
        "listx = [x[2:] for x in list(df['等級別'].unique())]\n",
        "listy = [count[x] for x in list(df['等級別'].unique())]\n",
        "\n",
        "plt.bar(listx, listy, width=0.5, color='#93282c')\n",
        "plt.title('各學位等級招收校數')\n",
        "plt.xlabel('學位等級別')\n",
        "plt.ylabel('學校數')\n",
        "plt.show()\n"
      ],
      "metadata": {
        "colab": {
          "base_uri": "https://localhost:8080/",
          "height": 472
        },
        "id": "klqfT4KleJI_",
        "outputId": "10bb1323-0fd0-41c3-860b-39387b121112"
      },
      "execution_count": 43,
      "outputs": [
        {
          "output_type": "display_data",
          "data": {
            "text/plain": [
              "<Figure size 640x480 with 1 Axes>"
            ],
            "image/png": "[encoded data removed]"
          },
          "metadata": {}
        }
      ]
    },
    {
      "cell_type": "markdown",
      "source": [
        "# Q1台師大女生總人數"
      ],
      "metadata": {
        "id": "uh72SjAguqhE"
      }
    },
    {
      "cell_type": "code",
      "source": [
        "ntnu_df = df[df['學校名稱'] == '國立臺灣師範大學']\n",
        "total_females = ntnu_df['女生計'].sum()\n",
        "print(f\"國立臺灣師範大學的女性學生數量為：{total_females}\")\n"
      ],
      "metadata": {
        "id": "H12R6JGVu8mI",
        "colab": {
          "base_uri": "https://localhost:8080/"
        },
        "outputId": "677b07d8-5675-4adc-88e1-e81799424c6e"
      },
      "execution_count": null,
      "outputs": [
        {
          "output_type": "stream",
          "name": "stdout",
          "text": [
            "國立臺灣師範大學的女性學生數量為：9462\n"
          ]
        }
      ]
    },
    {
      "cell_type": "markdown",
      "source": [
        "# Q2台師大男生延修人數"
      ],
      "metadata": {
        "id": "fnbMgIg4u-3w"
      }
    },
    {
      "cell_type": "code",
      "source": [
        "df4 = df[df['學校名稱'] == '國立臺灣師範大學']\n",
        "total = df4['延修生男'].sum()\n",
        "print(f\"國立臺灣師範大學的男性延修數量為：{total}\")"
      ],
      "metadata": {
        "id": "b2aegjpmvFbh",
        "colab": {
          "base_uri": "https://localhost:8080/"
        },
        "outputId": "16c67abb-bac0-472e-a14f-7d9a02bd7f8c"
      },
      "execution_count": null,
      "outputs": [
        {
          "output_type": "stream",
          "name": "stdout",
          "text": [
            "國立臺灣師範大學的男性延修數量為：304\n"
          ]
        }
      ]
    },
    {
      "cell_type": "markdown",
      "source": [
        "# Q3台大總學生數"
      ],
      "metadata": {
        "id": "ZS-pVxduvGTe"
      }
    },
    {
      "cell_type": "code",
      "source": [
        "ntu_df = df[df['學校名稱'] == '國立臺灣大學']\n",
        "total_students = ntu_df['總計'].sum()\n",
        "print(f\"國立臺灣大學的總學生數量為：{total_students}\")"
      ],
      "metadata": {
        "id": "xLZjWIQXvLJY",
        "colab": {
          "base_uri": "https://localhost:8080/"
        },
        "outputId": "b7f17fa3-e638-4710-ec17-c8b7af7487d8"
      },
      "execution_count": null,
      "outputs": [
        {
          "output_type": "stream",
          "name": "stdout",
          "text": [
            "國立臺灣大學的總學生數量為：33882\n"
          ]
        }
      ]
    },
    {
      "cell_type": "markdown",
      "source": [
        "# 4. 各縣市分別有？所，位於新北市的大專院校總共有幾所"
      ],
      "metadata": {
        "id": "wKevo1U1TOn2"
      }
    },
    {
      "cell_type": "code",
      "source": [
        "# 目的是從一個DataFrame df 中提取縣市名稱的資訊，並基於這些資訊進行統計分析和列印。\n",
        "\n",
        "# Line37說明，city_list = []\n",
        "# 創建一個空列表 city_list，用於儲存從 df['縣市名稱'] 中提取的縣市名。\n",
        "\n",
        "# Line39-40說明，for i in df['縣市名稱']: city_list.append(i[3:])：\n",
        "# 這是一個for循環，拜訪DataFrame df 中的每一個縣市名稱。\n",
        "# i[3:] 表示取每個縣市名稱字串的第3個字元到最後一個字元的子字串。這樣做的目的可能是去掉縣市名稱中的前綴（例如縣市編碼）。\n",
        "# 將處理後的縣市名添加到 city_list 中。\n",
        "\n",
        "# Line42說明，df['縣市名'] = city_list\n",
        "# 將處理後的縣市名稱列表 city_list 添加到 DataFrame df 中，建立一個新的列名為 '縣市名'。\n",
        "\n",
        "# Line43說明，df4 = df.drop_duplicates('學校代碼')\n",
        "# 使用 drop_duplicates() 函數根據 '學校代碼' 列刪除重複的行，並將結果儲存在 DataFrame df4 中。確保每個學校代碼僅出現一次。\n",
        "\n",
        "# Line44說明，count = df4['縣市名'].value_counts()\n",
        "# 使用 value_counts() 函數計算 df4['縣市名'] 列中每個唯一值的出現次數，並將結果儲存在 count 中。\n",
        "\n",
        "# Line45說明，city_list = df4['縣市名'].unique()\n",
        "# 使用 unique() 函數獲取 df4['縣市名'] 列中的唯一值，並將結果儲存在 city_list 中。\n",
        "\n",
        "# Line46說明，print(f\"本資料集共收集了 {len(df4)} 學校，其中：\")\n",
        "# 印出一條信息，顯示共收集了多少所學校。\n",
        "\n",
        "# Line48-49說明，for city in city_list: print(f\"{city}有 {count[city]} 所\")\n",
        "# 拜訪 city_list 中的每個縣市名稱，並印出該縣市下的學校數量。count[city] 從 count 中取得對應的學校數。\n",
        "\n",
        "# Line51說明，newtaipei = df4[df4['縣市名'] == '新北市']：\n",
        "# 建立一個新的DataFrame newtaipei，其中僅包含縣市名為 '新北市' 的行。\n",
        "\n",
        "# Line53說明，print('\\n',newtaipei['縣市名'].value_counts())：\n",
        "# 印出縣市名為 '新北市' 的學校數量。這是使用 value_counts() 函數計算新DataFrame newtaipei 中縣市名稱為 '新北市' 的出現次數。\n",
        "\n",
        "\n",
        "\n",
        "city_list = []\n",
        "\n",
        "for i in df['縣市名稱']:\n",
        "    city_list.append(i[3:])\n",
        "\n",
        "df['縣市名'] = city_list\n",
        "df4 = df.drop_duplicates('學校代碼')\n",
        "count = df4['縣市名'].value_counts()\n",
        "city_list = df4['縣市名'].unique()\n",
        "print(f\"本資料集共收集了 {len(df4)} 學校，其中：\")\n",
        "\n",
        "for city in city_list:\n",
        "    print(f\"{city}有 {count[city]} 所\")\n",
        "\n",
        "newtaipei = df4[df4['縣市名'] == '新北市']\n",
        "print('\\n') #斷行的用途\n",
        "print(newtaipei['縣市名'].value_counts())"
      ],
      "metadata": {
        "id": "kTfp6k2ATPPI",
        "colab": {
          "base_uri": "https://localhost:8080/"
        },
        "outputId": "a57689fc-3914-4730-d685-39e5e00eabc5"
      },
      "execution_count": 44,
      "outputs": [
        {
          "output_type": "stream",
          "name": "stdout",
          "text": [
            "本資料集共收集了 145 學校，其中：\n",
            "臺北市有 24 所\n",
            "新竹市有 5 所\n",
            "臺南市有 13 所\n",
            "臺中市有 17 所\n",
            "桃園市有 12 所\n",
            "高雄市有 15 所\n",
            "基隆市有 3 所\n",
            "嘉義縣有 4 所\n",
            "彰化縣有 4 所\n",
            "新北市有 20 所\n",
            "嘉義市有 2 所\n",
            "花蓮縣有 4 所\n",
            "南投縣有 2 所\n",
            "雲林縣有 3 所\n",
            "屏東縣有 5 所\n",
            "臺東縣有 2 所\n",
            "宜蘭縣有 3 所\n",
            "苗栗縣有 3 所\n",
            "澎湖縣有 1 所\n",
            "金門縣有 1 所\n",
            "新竹縣有 2 所\n",
            "\n",
            "\n",
            "新北市    20\n",
            "Name: 縣市名, dtype: int64\n"
          ]
        }
      ]
    },
    {
      "cell_type": "code",
      "source": [
        "# 目的：繪製一個長條圖，顯示各個縣市的學校數量。\n",
        "\n",
        "# Line38說明，plt.figure(figsize=(10, 6))\n",
        "# 創建一個新的圖形，設置尺寸為寬度為10英寸，高度為6英寸。這樣做是為了確保長條圖在輸出時有適當的大小。\n",
        "\n",
        "# Line39說明，bars = plt.bar(count.index, count.values, color='skyblue')\n",
        "# 使用 plt.bar() 函數建立長條圖，其中 count.index 是縣市名稱，count.values 是對應的學校數量。\n",
        "# color='skyblue' 設置長條圖的顏色為天藍色。\n",
        "# 將每個條形的句柄（handler）存儲在 bars 變量中，以便後續設置文字標籤時使用。\n",
        "\n",
        "# Line40說明，plt.xlabel('縣市名稱')\n",
        "# 設置 x 軸的標籤為 '縣市名稱'。\n",
        "\n",
        "# Line41說明，plt.ylabel('學校數量')\n",
        "# 設置 y 軸的標籤為 '學校數量'。\n",
        "\n",
        "# Line42說明，plt.title('各縣市學校數量')\n",
        "# 設置圖表的標題為 '各縣市學校數量'。\n",
        "\n",
        "# Line43說明，plt.xticks(rotation=45)\n",
        "# 設置 x 軸刻度的旋轉角度為45度，以避免刻度標籤相互重疊。\n",
        "\n",
        "# Line45說明，for bar in bars:\n",
        "# 拜訪 bars 中的每個長條形。\n",
        "\n",
        "# Line46說明，height = bar.get_height()\n",
        "# 取得當前長條形的高度（即學校數量）。\n",
        "\n",
        "# Line47說明，plt.text(bar.get_x() + bar.get_width() / 2, height, str(int(height)), ha='center', va='bottom')\n",
        "# 使用 plt.text() 函數在條形上方添加文字標籤。bar.get_x() + bar.get_width() / 2 確定文字的水平位置位於長條形的中央，height 確定文字的垂直位置位於長條形的頂部。\n",
        "# str(int(height)) 將高度轉換為整數並轉換為字元串，以便在圖表上顯示。\n",
        "# ha='center' 和 va='bottom' 分別指定文字的水平對齊方式為中心和垂直對齊方式為底部。\n",
        "\n",
        "# Line48說明，plt.show()\n",
        "# 顯示繪製的圖形。\n",
        "\n",
        "\n",
        "plt.figure(figsize=(10, 6))\n",
        "bars = plt.bar(count.index, count.values, color='skyblue')\n",
        "plt.xlabel('縣市名稱')\n",
        "plt.ylabel('學校數量')\n",
        "plt.title('各縣市學校數量')\n",
        "plt.xticks(rotation=45)\n",
        "\n",
        "for bar in bars:\n",
        "    height = bar.get_height()\n",
        "    plt.text(bar.get_x() + bar.get_width() / 2, height, str(int(height)), ha='center', va='bottom')\n",
        "plt.show()"
      ],
      "metadata": {
        "colab": {
          "base_uri": "https://localhost:8080/",
          "height": 589
        },
        "id": "MawRq9s1enz7",
        "outputId": "0d411e52-a85e-44f9-abc0-80fb7901b88c"
      },
      "execution_count": 6,
      "outputs": [
        {
          "output_type": "display_data",
          "data": {
            "text/plain": [
              "<Figure size 1000x600 with 1 Axes>"
            ],
            "image/png": "[encoded data removed]"
          },
          "metadata": {}
        }
      ]
    },
    {
      "cell_type": "markdown",
      "source": [
        "# 5. 北中南東區分別有？所\n",
        "\n",
        "都市及區域發展統計彙編 - 國發會 https://www.ndc.gov.tw/nc_77_4402"
      ],
      "metadata": {
        "id": "cwKsmmdNXKwL"
      }
    },
    {
      "cell_type": "markdown",
      "source": [
        "北部區域：包括臺北市、新北市、基隆市、新竹市、桃園市、新竹縣及宜蘭縣。\n",
        "\n",
        "中部區域：包括臺中市、苗栗縣、彰化縣、南投縣及雲林縣。\n",
        "\n",
        "南部區域：包括高雄市、臺南市、嘉義市、嘉義縣、屏東縣及澎湖縣。\n",
        "\n",
        "東部區域：包括花蓮縣及臺東縣。\n",
        "\n",
        "福建省：包括金門縣與連江縣。"
      ],
      "metadata": {
        "id": "nc8jGnGW_joN"
      }
    },
    {
      "cell_type": "code",
      "source": [
        "# 目的是將學校所在的縣市名對映到相應的區域，然後統計每個區域中學校的數量並列印出來。\n",
        "\n",
        "# Line22-42說明，city_to_area = {...}\n",
        "# 定義了一個名為 city_to_area 的字典，將每個縣市名對映到其所在的區域。例如，'臺北市'、'新北市' 等都被對映到 '北部'，'臺中市'、'彰化縣' 等都被對映到 '中部'。\n",
        "\n",
        "# Line44說明，df['區域'] = df['縣市名'].map(city_to_area)\n",
        "# 使用 map() 函數將 df['縣市名'] 中的每個值對映到 city_to_area 字典中相應的區域，並將結果儲存在新的列 '區域' 中。\n",
        "\n",
        "# Line46說明，df5 = df.drop_duplicates('學校代碼')\n",
        "# 使用 drop_duplicates() 函數根據 '學校代碼' 列刪除重複的行，並將結果儲存在 DataFrame df5 中。確保每個學校代碼僅出現一次。\n",
        "\n",
        "# Line47說明，count = df5['區域'].value_counts()\n",
        "# 使用 value_counts() 函數計算 df5['區域'] 列中每個唯一值的出現次數，並將結果儲存在 count 中。\n",
        "\n",
        "# Line48說明，print(f\"本資料集共收集了 {len(df5)} 所學校，其中：\")\n",
        "# 印出一條信息，顯示共收集了多少所學校。\n",
        "\n",
        "# Line49說明，print(f\"北部區域有 {count['北部']} 所；\\n中部區域有 {count['中部']} 所；\\n南部區域有 {count['南部']} 所；\\n東部區域有 {count['東部']} 所；\\n福建省區域有 {count['福建省']} 所。\")\n",
        "# 使用 f-string 格式化輸出，顯示每個區域的學校數量。count['北部'] 代表北部區域中學校的數量，count['中部'] 代表中部區域中學校的數量，依此類推。\n",
        "\n",
        "\n",
        "city_to_area = {'臺北市':'北部',\n",
        "         '新北市':'北部',\n",
        "         '基隆市':'北部',\n",
        "         '新竹市':'北部',\n",
        "         '桃園市':'北部',\n",
        "         '新竹縣':'北部',\n",
        "         '宜蘭縣':'北部',\n",
        "         '臺中市':'中部',\n",
        "         '苗栗縣':'中部',\n",
        "         '彰化縣':'中部',\n",
        "         '南投縣':'中部',\n",
        "         '雲林縣':'中部',\n",
        "         '高雄市':'南部',\n",
        "         '臺南市':'南部',\n",
        "         '嘉義市':'南部',\n",
        "         '嘉義縣':'南部',\n",
        "         '屏東縣':'南部',\n",
        "         '澎湖縣':'南部',\n",
        "         '花蓮縣':'東部',\n",
        "         '臺東縣':'東部',\n",
        "         '金門縣':'福建省'}\n",
        "\n",
        "df['區域'] = df['縣市名'].map(city_to_area)\n",
        "\n",
        "df5 = df.drop_duplicates('學校代碼')\n",
        "count = df5['區域'].value_counts()\n",
        "print(f\"本資料集共收集了 {len(df5)} 所學校，其中：\")\n",
        "print(f\"北部區域有 {count['北部']} 所；\\n中部區域有 {count['中部']} 所；\\n南部區域有 {count['南部']} 所；\\n東部區域有 {count['東部']} 所；\\n福建省區域有 {count['福建省']} 所。\")"
      ],
      "metadata": {
        "id": "RDgJ5YoAx92d",
        "colab": {
          "base_uri": "https://localhost:8080/"
        },
        "outputId": "179a0821-cb56-4e97-dbd9-334d57856554"
      },
      "execution_count": 45,
      "outputs": [
        {
          "output_type": "stream",
          "name": "stdout",
          "text": [
            "本資料集共收集了 145 所學校，其中：\n",
            "北部區域有 69 所；\n",
            "中部區域有 29 所；\n",
            "南部區域有 40 所；\n",
            "東部區域有 6 所；\n",
            "福建省區域有 1 所。\n"
          ]
        }
      ]
    },
    {
      "cell_type": "code",
      "source": [
        "# 目的是根據區域（從'區域'列中取得）統計每個區域的學校數量，然後以長條圖的形式顯示。\n",
        "\n",
        "# Line43說明，df5_1 = df.drop_duplicates('學校代碼')\n",
        "# 使用 drop_duplicates() 函數根據 '學校代碼' 列刪除重複的行，並將結果儲存在 DataFrame df5_1 中。確保每個學校代碼僅出現一次。\n",
        "\n",
        "# Line44說明，count = df5_1['區域'].value_counts()\n",
        "# 使用 value_counts() 函數計算 df5_1['區域'] 列中每個唯一值的出現次數，並將結果儲存在 count 中。\n",
        "\n",
        "# Line45說明，listx = [count[x] for x in list(df['區域'].unique())]\n",
        "# 使用列表推導式，根據原始 DataFrame df 中的唯一區域列表，拜訪該列表並從 count 字典中取得對應的學校數量，然後將結果儲存在 listx 中。\n",
        "\n",
        "# Line46說明，listy = df['區域'].unique()\n",
        "# 使用 unique() 函數取得原始 DataFrame df 中的唯一區域列表，並將結果儲存在 listy 中。\n",
        "\n",
        "# Line48說明，plt.bar(listy, listx, width=0.5, color='skyblue')\n",
        "# 使用 plt.bar() 函數繪製長條圖，其中 listy 是 x 軸上的刻度（即區域），listx 是對應的 y 軸數值（即學校數量）。\n",
        "# width=0.5 設置長條的寬度為0.5。\n",
        "# color='skyblue' 設置長條的顏色為天藍色。\n",
        "\n",
        "# Line50-51說明，for i, value in enumerate(listx): plt.text(listy[i], value, str(value), ha='center', va='bottom')\n",
        "# 使用 plt.text() 函數在每個長條上方添加文字標籤。listy[i] 是每個長條的 x 軸位置，value 是對應的 y 軸數值，str(value) 將數值轉換為字元串。\n",
        "# ha='center' 和 va='bottom' 分別指定文字的水平對齊方式為中心和垂直對齊方式為底部。\n",
        "\n",
        "# Line53說明，plt.title('各地區學校數')\n",
        "# 設置圖表的標題為 '各地區學校數'。\n",
        "\n",
        "# Line54說明，plt.xlabel('地區')\n",
        "# 設置 x 軸的標籤為 '地區'。\n",
        "\n",
        "# Line55說明，plt.ylabel('學校數')\n",
        "# 設置 y 軸的標籤為 '學校數'。\n",
        "\n",
        "# Line56說明，plt.xticks(rotation=45)\n",
        "# 設置 x 軸刻度的旋轉角度為45度，以避免刻度標籤相互重疊。\n",
        "\n",
        "# Line57說明，plt.tight_layout()\n",
        "# 調整圖表的布局，以確保所有元素都能夠合理顯示。\n",
        "\n",
        "# Line58說明，plt.show()\n",
        "# 顯示繪製的圖形。\n",
        "\n",
        "\n",
        "df5_1 = df.drop_duplicates('學校代碼')\n",
        "count = df5_1['區域'].value_counts()\n",
        "listx = [count[x] for x in list(df['區域'].unique())]\n",
        "listy = df['區域'].unique()\n",
        "\n",
        "plt.bar(listy, listx, width=0.5, color='skyblue')\n",
        "\n",
        "for i, value in enumerate(listx):\n",
        "    plt.text(listy[i], value, str(value), ha='center', va='bottom')\n",
        "\n",
        "plt.title('各地區學校數')\n",
        "plt.xlabel('地區')\n",
        "plt.ylabel('學校數')\n",
        "plt.xticks(rotation=45)\n",
        "plt.tight_layout()\n",
        "plt.show()"
      ],
      "metadata": {
        "colab": {
          "base_uri": "https://localhost:8080/",
          "height": 487
        },
        "id": "T5oTjDQ7fAp6",
        "outputId": "1a1497c3-7dd3-4ca6-c6c0-2c2ca6b4ad0e"
      },
      "execution_count": 46,
      "outputs": [
        {
          "output_type": "display_data",
          "data": {
            "text/plain": [
              "<Figure size 640x480 with 1 Axes>"
            ],
            "image/png": "[encoded data removed]"
          },
          "metadata": {}
        }
      ]
    },
    {
      "cell_type": "markdown",
      "source": [
        "# 6. 各體系別分別有？所"
      ],
      "metadata": {
        "id": "7WkoovplBeaz"
      }
    },
    {
      "cell_type": "code",
      "source": [
        "# 目的是根據體系別（從'體系別'列中取得）統計每個體系別的學校數量，然後列印出來。\n",
        "\n",
        "# Line14說明，df6 = df.drop_duplicates('學校代碼')\n",
        "# 使用 drop_duplicates() 函數根據 '學校代碼' 列刪除重複的行，並將結果儲存在 DataFrame df6 中。確保每個學校代碼僅出現一次。\n",
        "\n",
        "# Line15說明，count = df6['體系別'].value_counts()\n",
        "# 使用 value_counts() 函數計算 df6['體系別'] 列中每個唯一值的出現次數，並將結果儲存在 count 中。\n",
        "\n",
        "# Line17說明，print(f\"本資料集共收集了 {len(df6)} 所學校，其中：技職體系有 {count['2 技職']} 所；一般體系有 {count['1 一般']} 所；師範體系有 {count['3 師範']} 所。\")\n",
        "# 使用 f-string 格式化輸出，顯示每個體系別的學校數量。len(df6) 表示總學校數量，count['2 技職']、count['1 一般'] 和 count['3 師範'] 分別表示技職體系、一般體系和師範體系的學校數量。\n",
        "\n",
        "\n",
        "\n",
        "df6 = df.drop_duplicates('學校代碼')\n",
        "count = df6['體系別'].value_counts()\n",
        "\n",
        "print(f\"本資料集共收集了 {len(df6)} 所學校，其中：技職體系有 {count['2 技職']} 所；一般體系有 {count['1 一般']} 所；師範體系有 {count['3 師範']} 所。\")"
      ],
      "metadata": {
        "id": "JKMhMFVMBiBF",
        "colab": {
          "base_uri": "https://localhost:8080/"
        },
        "outputId": "b99df4ef-5e96-402c-d567-8fe45aac8ef2"
      },
      "execution_count": 47,
      "outputs": [
        {
          "output_type": "stream",
          "name": "stdout",
          "text": [
            "本資料集共收集了 145 所學校，其中：技職體系有 78 所；一般體系有 62 所；師範體系有 5 所。\n"
          ]
        }
      ]
    },
    {
      "cell_type": "markdown",
      "source": [
        "# 7. 國立/私立與男女比\n",
        "請問國立大學與私立大學在學男生女生比例為何? 延修生男生女生比例為何?"
      ],
      "metadata": {
        "id": "h3ujPC6KCLxI"
      }
    },
    {
      "cell_type": "code",
      "source": [
        "# 目的是建立一個多層字典結構，用於儲存每所學校的在學生和延修生的男女生數量，然後統計每所學校的男女生數量並更新字典。\n",
        "\n",
        "# Line35說明，count = {}\n",
        "# 建立一個空字典，將用於儲存學校的在學生和延修生的男女生數量。\n",
        "\n",
        "# Line37說明，def create_count_dict(df, count):\n",
        "# 定義一個函數 create_count_dict，該函數的目的是建立多層字典結構，用於儲存每所學校的男女生數量。\n",
        "\n",
        "# Line38說明，df7 = df.drop_duplicates('學校代碼')\n",
        "# 使用 drop_duplicates() 函數根據 '學校代碼' 列刪除重複的行，並將結果儲存在 DataFrame df7 中。確保每個學校代碼僅出現一次。\n",
        "\n",
        "# Line39說明，for i in df7['學校名稱']:\n",
        "# 拜訪 df7['學校名稱'] 中的每個學校名稱。\n",
        "\n",
        "# Line40說明，count[i] = {}\n",
        "# 將學校名稱作為鍵(key)，建立一個新的空字典作為值(value)，以儲存該學校的男女生數量。\n",
        "\n",
        "# Line41，44說明，count[i]['在學生'] = {}、count[i]['延修生'] = {}\n",
        "# 在新建的學校字典中，建立兩個子字典，用於分別儲存在學生和延修生的男女生數量。\n",
        "\n",
        "# Line42-43，45-46說明，count[i]['在學生']['男生數'] = 0、count[i]['在學生']['女生數'] = 0、count[i]['延修生']['男生數'] = 0、count[i]['延修生']['女生數'] = 0\n",
        "# 初始化每所學校的男女生數量為0。\n",
        "\n",
        "# Line49說明，def count_every_schools_data(df):\n",
        "# 定義一個函數 count_every_schools_data，用於統計每所學校的男女生數量並更新字典。\n",
        "\n",
        "# Line50說明，for j in range(len(df)):\n",
        "# 使用 range(len(df)) 拜訪 DataFrame df 中的每一行。\n",
        "\n",
        "# Line51-54說明，count[df.iloc[j,2]]['在學生']['男生數'] += ...、count[df.iloc[j,2]]['在學生']['女生數'] += ...、count[df.iloc[j,2]]['延修生']['男生數'] += ...、count[df.iloc[j,2]]['延修生']['女生數'] += ...\n",
        "# 這些行根據每一行的數據更新對應學校的男女生數量。\n",
        "# 例如，df.iloc[j,2] 是該行的學校名稱，count[df.iloc[j,2]] 取得該學校的字典，然後根據該行的男女生數量更新在學生和延修生的男女生數量。\n",
        "\n",
        "\n",
        "count = {}\n",
        "\n",
        "def create_count_dict(df, count): # 建立多層 dict 結構來儲存各校在學與延修生的男女生數\n",
        "    df7 = df.drop_duplicates('學校代碼')\n",
        "    for i in df7['學校名稱']:\n",
        "        count[i] = {}\n",
        "        count[i]['在學生'] = {}\n",
        "        count[i]['在學生']['男生數'] = 0\n",
        "        count[i]['在學生']['女生數'] = 0\n",
        "        count[i]['延修生'] = {}\n",
        "        count[i]['延修生']['男生數'] = 0\n",
        "        count[i]['延修生']['女生數'] = 0\n",
        "\n",
        "\n",
        "def count_every_schools_data(df):\n",
        "    for j in range(len(df)):\n",
        "        count[df.iloc[j,2]]['在學生']['男生數'] += (int(df.iloc[j,8]) + int(df.iloc[j,10]) + int(df.iloc[j,12]) + int(df.iloc[j,14]) + int(df.iloc[j,16]) + int(df.iloc[j,18]) + int(df.iloc[j,20]))\n",
        "        count[df.iloc[j,2]]['在學生']['女生數'] += (int(df.iloc[j,9]) + int(df.iloc[j,11]) + int(df.iloc[j,13]) + int(df.iloc[j,15]) + int(df.iloc[j,17]) + int(df.iloc[j,19]) + int(df.iloc[j,21]))\n",
        "        count[df.iloc[j,2]]['延修生']['男生數'] += int(df.iloc[j,22])\n",
        "        count[df.iloc[j,2]]['延修生']['女生數'] += int(df.iloc[j,23])\n",
        "\n",
        "create_count_dict(df, count) # 執行Line37定義的Function\n",
        "count_every_schools_data(df) # 執行Line49定義的Function\n"
      ],
      "metadata": {
        "id": "deMDYF5ACMU-"
      },
      "execution_count": 48,
      "outputs": []
    },
    {
      "cell_type": "code",
      "source": [
        "# 目的是根據公私立屬性，分別計算國立與私立大學在學生和延修生的男女比例，然後列印出來。\n",
        "\n",
        "# Line35-36說明，public_current_male = 0 和 public_current_female = 0\n",
        "# 定義兩個變量 public_current_male 和 public_current_female，分別用於儲存男女生數量的加總，初始值為0。\n",
        "\n",
        "# Line38說明，df7_1 = df.drop_duplicates('學校代碼', ignore_index=True)\n",
        "# 使用 drop_duplicates() 函數根據 '學校代碼' 列刪除重複的行，並將結果存儲在 DataFrame df7_1 中。 ignore_index=True 會重新編制索引，以便在後續循環中可以正確地訪問行。\n",
        "\n",
        "# Line39說明，for i in range(len(df7_1)):\n",
        "# 通過迴圈拜訪 DataFrame df7_1 中的每一行。\n",
        "\n",
        "# Line40說明，if df7_1.loc[i,'公私立'] == '國立':\n",
        "# 檢查每所學校的公私立屬性是否為國立。\n",
        "\n",
        "# Line41-42說明，public_current_male += count[df7_1.loc[i,'學校名稱']]['在學生']['男生數'] 和 public_current_female += count[df7_1.loc[i,'學校名稱']]['在學生']['女生數']\n",
        "# 將符合條件的國立大學的在學生男女生數量加入到 public_current_male 和 public_current_female 中。\n",
        "\n",
        "# Line44說明，ratio = public_current_male/public_current_female*100\n",
        "# 計算男女比例，將男生數除以女生數，並乘以100獲得百分比。\n",
        "\n",
        "# Line45說明，print(f'國立大學在學生男女比：{ratio} ≑ {round(ratio,2)}')\n",
        "# 使用 f-string 格式化輸出，印出國立大學在學生的男女比例，並使用 round() 函數四捨五入至小數點後兩位。\n",
        "\n",
        "# Line47，56，65說明，df7_2 = df.drop_duplicates('學校代碼', ignore_index=True)、df7_3 = df.drop_duplicates('學校代碼', ignore_index=True) 和 df7_4 = df.drop_duplicates('學校代碼', ignore_index=True)\n",
        "# 這三行與上述第一行類似，分別建立了三個新的 DataFrame，用於下面的私立大學在學生男女比例和國立、私立大學延修生男女比例的計算。\n",
        "\n",
        "# Line49，58，67說明，if df7_2.loc[i,'公私立'] == '私立':、if df7_3.loc[i,'公私立'] == '國立': 和 if df7_4.loc[i,'公私立'] == '私立':\n",
        "# 這三行用於檢查每所學校的公私立屬性是否分別為私立和國立。\n",
        "\n",
        "# Line53-54說明，ratio = public_current_male/public_current_female*100 和 print(f'私立大學在學生男女比：{ratio} ≑ {round(ratio,2)}')\n",
        "# 這兩行用於計算私立大學在學生的男女比例，並列印出來，與前面的國立大學類似。\n",
        "\n",
        "\n",
        "\n",
        "public_current_male = 0\n",
        "public_current_female = 0\n",
        "\n",
        "df7_1 = df.drop_duplicates('學校代碼', ignore_index=True)\n",
        "for i in range(len(df7_1)):\n",
        "    if df7_1.loc[i,'公私立'] == '公立':\n",
        "        public_current_male += count[df7_1.loc[i,'學校名稱']]['在學生']['男生數']\n",
        "        public_current_female += count[df7_1.loc[i,'學校名稱']]['在學生']['女生數']\n",
        "\n",
        "ratio = public_current_male/public_current_female*100 # 男女比計算公式\n",
        "print(f'國立大學在學生男女比：{ratio} ≑ {round(ratio,2)}') # 四捨五入至小數點後兩位\n",
        "\n",
        "df7_2 = df.drop_duplicates('學校代碼', ignore_index=True)\n",
        "for i in range(len(df7_2)):\n",
        "    if df7_2.loc[i,'公私立'] == '私立':\n",
        "        public_current_male += count[df7_1.loc[i,'學校名稱']]['在學生']['男生數']\n",
        "        public_current_female += count[df7_1.loc[i,'學校名稱']]['在學生']['女生數']\n",
        "\n",
        "ratio = public_current_male/public_current_female*100 # 男女比計算公式\n",
        "print(f'私立大學在學生男女比：{ratio} ≑ {round(ratio,2)}') # 四捨五入至小數點後兩位\n",
        "\n",
        "df7_3 = df.drop_duplicates('學校代碼', ignore_index=True)\n",
        "for i in range(len(df7_3)):\n",
        "    if df7_3.loc[i,'公私立'] == '國立':\n",
        "        public_current_male += count[df7_1.loc[i,'學校名稱']]['延修生']['男生數']\n",
        "        public_current_female += count[df7_1.loc[i,'學校名稱']]['延修生']['女生數']\n",
        "\n",
        "ratio = public_current_male/public_current_female*100 # 男女比計算公式\n",
        "print(f'國立大學延修生男女比：{ratio} ≑ {round(ratio,2)}') # 四捨五入至小數點後兩位\n",
        "\n",
        "df7_4 = df.drop_duplicates('學校代碼', ignore_index=True)\n",
        "for i in range(len(df7_4)):\n",
        "    if df7_4.loc[i,'公私立'] == '私立':\n",
        "        public_current_male += count[df7_1.loc[i,'學校名稱']]['延修生']['男生數']\n",
        "        public_current_female += count[df7_1.loc[i,'學校名稱']]['延修生']['女生數']\n",
        "\n",
        "ratio = public_current_male/public_current_female*100 # 男女比計算公式\n",
        "print(f'私立大學延修生男女比：{ratio} ≑ {round(ratio,2)}') # 四捨五入至小數點後兩位"
      ],
      "metadata": {
        "colab": {
          "base_uri": "https://localhost:8080/"
        },
        "id": "rbPSBKBNgIjq",
        "outputId": "29ffd755-44c4-4496-b611-5a2a1200c92f"
      },
      "execution_count": 49,
      "outputs": [
        {
          "output_type": "stream",
          "name": "stdout",
          "text": [
            "國立大學在學生男女比：119.10964038427396 ≑ 119.11\n",
            "私立大學在學生男女比：96.44547804394217 ≑ 96.45\n",
            "國立大學延修生男女比：96.44547804394217 ≑ 96.45\n",
            "私立大學延修生男女比：97.30984726379614 ≑ 97.31\n"
          ]
        }
      ]
    },
    {
      "cell_type": "markdown",
      "source": [
        "# 8. 國立大學在學生男女比"
      ],
      "metadata": {
        "id": "DAvYMOFLCtRn"
      }
    },
    {
      "cell_type": "code",
      "source": [
        "public_current_male = 0\n",
        "public_current_female = 0\n",
        "\n",
        "df7_1 = df.drop_duplicates('學校代碼', ignore_index=True)\n",
        "for i in range(len(df7_1)):\n",
        "    if df7_1.loc[i,'公私立'] == '公立':\n",
        "        public_current_male += count[df7_1.loc[i,'學校名稱']]['在學生']['男生數']\n",
        "        public_current_female += count[df7_1.loc[i,'學校名稱']]['在學生']['女生數']\n",
        "\n",
        "ratio = public_current_male/public_current_female*100 # 男女比計算公式\n",
        "print(f'國立大學在學生男女比：{ratio} ≑ {round(ratio,2)}') # 四捨五入至小數點後兩位"
      ],
      "metadata": {
        "id": "dYAEBiC7Co8B",
        "colab": {
          "base_uri": "https://localhost:8080/"
        },
        "outputId": "c80072da-e0a2-4527-8a71-101d7c4468fb"
      },
      "execution_count": 50,
      "outputs": [
        {
          "output_type": "stream",
          "name": "stdout",
          "text": [
            "國立大學在學生男女比：119.10964038427396 ≑ 119.11\n"
          ]
        }
      ]
    },
    {
      "cell_type": "markdown",
      "source": [
        " # 9. 每校平均最多與最少人的體系"
      ],
      "metadata": {
        "id": "zWIyQ01LXGo_"
      }
    },
    {
      "cell_type": "code",
      "source": [
        "# 目的是計算每個體系別（例如技職、一般、師範等）的平均每校學生人數，並找出平均人數最多和最少的體系別。\n",
        "\n",
        "# Line46說明，df8 = df.drop_duplicates('學校代碼')\n",
        "# 使用 drop_duplicates() 函數根據 '學校代碼' 列刪除重複的行，並將結果儲存在 DataFrame df8 中。確保每個學校代碼僅出現一次。\n",
        "\n",
        "# Line47說明，system_count = df8['體系別'].value_counts()\n",
        "# 使用 value_counts() 函數計算 df8['體系別'] 列中每個唯一值的出現次數，並將結果儲存在 system_count 中。這將統計每個體系別的學校數量。\n",
        "\n",
        "# Line49說明，system_list = list(df['體系別'].unique())\n",
        "# 使用 unique() 函數獲取原始 DataFrame df 中的唯一體系別列表，並將結果轉換為列表儲存在 system_list 中。\n",
        "\n",
        "# Line50說明，count_student = 0\n",
        "# 初始化一個變量 count_student，用於計算每個體系別的學生總數。\n",
        "\n",
        "# Line51說明，result_dict = {}\n",
        "# 建立一個空字典 result_dict，用於儲存每個體系別的平均每校學生人數。\n",
        "\n",
        "# Line53說明，for system in system_list:\n",
        "# 拜訪 system_list 中的每個體系別。\n",
        "\n",
        "# Line54說明，for i in range(len(df)):\n",
        "# 使用 range(len(df)) 拜訪 DataFrame df 中的每一行。\n",
        "\n",
        "# Line55說明，if df.loc[i,'體系別'] == system:\n",
        "# 檢查當前行的體系別是否等於當前迭代的體系別。\n",
        "\n",
        "# Line56說明，count_student += int(df.loc[i, '總計'])\n",
        "# 將當前行的學生總數加到 count_student 變量中。\n",
        "\n",
        "# Line57說明，result_dict[system[2:]] = count_student/system_count[system]\n",
        "# 計算當前體系別的平均每校學生人數，並將結果儲存在 result_dict 字典中。由於體系別中包含了一個編碼（例如 '1 一般'），使用 system[2:] 來取得體系別的可讀部分。\n",
        "\n",
        "# Line58說明，count_student = 0\n",
        "# 將 count_student 變量重置為0，以準備計算下一個體系別的學生總數。\n",
        "\n",
        "# Line60-61說明，max_value = max(result_dict.values())、min_value = min(result_dict.values())\n",
        "# 找出 result_dict 字典中的最大值和最小值，分別代表最多人和最少人的平均每校學生人數。\n",
        "\n",
        "# Line62-63說明，max_key = next(key for key, value in result_dict.items() if value == max_value)、min_key = next(key for key, value in result_dict.items() if value == min_value)\n",
        "# 找出 result_dict 字典中最大值和最小值對應的鍵（即體系別）。\n",
        "\n",
        "# Line64-65說明，print(f\"每校平均最多人的是{max_key}體系，平均每校 {round(max_value,2)} 人；\")、print(f\"每校平均最少人的是{min_key}體系，平均每校 {round(min_value,2)} 人。\")\n",
        "# 使用 f-string 格式化輸出，顯示最多人和最少人的平均每校學生人數，以及對應的體系別。\n",
        "\n",
        "\n",
        "df8 = df.drop_duplicates('學校代碼')\n",
        "system_count = df8['體系別'].value_counts()\n",
        "\n",
        "system_list = list(df['體系別'].unique())\n",
        "count_student = 0\n",
        "result_dict = {}\n",
        "\n",
        "for system in system_list:\n",
        "    for i in range(len(df)):\n",
        "        if df.loc[i,'體系別'] == system:\n",
        "            count_student += int(df.loc[i, '總計'])\n",
        "    result_dict[system[2:]] = count_student/system_count[system]\n",
        "    count_student = 0\n",
        "\n",
        "max_value = max(result_dict.values())\n",
        "min_value = min(result_dict.values())\n",
        "max_key = next(key for key, value in result_dict.items() if value == max_value)\n",
        "min_key = next(key for key, value in result_dict.items() if value == min_value)\n",
        "\n",
        "print(f\"每校平均最多人的是{max_key}體系，平均每校 {round(max_value,2)} 人；\")\n",
        "print(f\"每校平均最少人的是{min_key}體系，平均每校 {round(min_value,2)} 人。\")"
      ],
      "metadata": {
        "id": "uSHT2gbiXIW8",
        "colab": {
          "base_uri": "https://localhost:8080/"
        },
        "outputId": "e1a8c3d3-7932-4905-f2c5-4c42bf0023f2"
      },
      "execution_count": 17,
      "outputs": [
        {
          "output_type": "stream",
          "name": "stdout",
          "text": [
            "每校平均最多人的是一般體系，平均每校 9224.89 人；\n",
            "每校平均最少人的是技職體系，平均每校 6143.56 人。\n"
          ]
        }
      ]
    },
    {
      "cell_type": "markdown",
      "source": [
        "# 10. 將新增的欄位寫入並儲存成新的CSV檔案，並命名為112_students_tf.csv\n",
        "\n",
        "新增的欄位有\"公私立\"，\"縣市名\"，\"區域\""
      ],
      "metadata": {
        "id": "KIx0QtssywfA"
      }
    },
    {
      "cell_type": "code",
      "source": [
        "df.head(2)\n",
        "df.to_csv('112_students_tf.csv', encoding='utf-8', sep=',')"
      ],
      "metadata": {
        "id": "LZUhVcpGzFOE"
      },
      "execution_count": 37,
      "outputs": []
    }
  ]
}